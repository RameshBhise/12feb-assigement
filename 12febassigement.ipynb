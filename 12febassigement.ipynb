{
 "cells": [
  {
   "cell_type": "code",
   "execution_count": null,
   "id": "c2f5566e-dd0c-45a8-867f-1612df94ebb1",
   "metadata": {},
   "outputs": [],
   "source": [
    "Que 1 Exceptions are raised when the program is syntactically correct, but the code resulted in an error. \n",
    "      This error does not stop the execution of the program, however, it changes the normal flow of the program.\n",
    "      differanse between error ane exsection:- The error implies a problem that mostly arises due to the shortage of system resources. \n",
    "        On the other hand, the exceptions occur during runtime and compile time.\n",
    "Que 2 If an exception occurs during execution of the try clause, the exception may be handled by an except clause. \n",
    "      If the exception is not handled by an except clause, the exception is re-raised after the finally clause has been executed.\n",
    "Que 3 The try and except block in Python is used to catch and handle exceptions.\n",
    "Que4  1 The try block lets you test a block of code for errors. The except block lets you handle the error. \n",
    "         The else block lets you execute code when there is no error.\n",
    "      2 The finally block lets you execute code, regardless of the result of the try- and except blocks.\n",
    "         it defines a block of code to run when the try... except...else block is final. \n",
    "        The finally block will be executed no matter if the try block raises an error or not. This can be useful to close objects and clean up resources.\n",
    "       3 The raise keyword is used to raise an exception. You can define what kind of error to raise, and the text to print to the user.\n",
    "Que 5  Like standard exception classes, custom exceptions are also classes. \n",
    "       Hence, you can add functionality to the custom exception classes like: Adding attributes and properties.\n",
    "       Since custom expansion joints are designed for the precise dimensions and requirements of your system,\n",
    "        they will experience less wear and tear over time\n",
    "Que 6\n",
    "class CustomError(Exception):\n",
    "    ...\n",
    "    pass\n",
    "\n",
    "try:\n",
    "   ...\n",
    "\n",
    "except CustomError:\n",
    "    ..."
   ]
  }
 ],
 "metadata": {
  "kernelspec": {
   "display_name": "Python 3 (ipykernel)",
   "language": "python",
   "name": "python3"
  },
  "language_info": {
   "codemirror_mode": {
    "name": "ipython",
    "version": 3
   },
   "file_extension": ".py",
   "mimetype": "text/x-python",
   "name": "python",
   "nbconvert_exporter": "python",
   "pygments_lexer": "ipython3",
   "version": "3.10.8"
  }
 },
 "nbformat": 4,
 "nbformat_minor": 5
}
